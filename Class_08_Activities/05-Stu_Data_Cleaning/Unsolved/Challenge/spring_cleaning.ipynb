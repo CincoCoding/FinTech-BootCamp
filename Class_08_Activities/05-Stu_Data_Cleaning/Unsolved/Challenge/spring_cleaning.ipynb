{
 "cells": [
  {
   "cell_type": "markdown",
   "metadata": {},
   "source": [
    "# Spring Cleaning!"
   ]
  },
  {
   "cell_type": "markdown",
   "metadata": {},
   "source": [
    "Harold's stock data is a mess! Help him clean up his data before the auditors arrive!"
   ]
  },
  {
   "cell_type": "code",
   "execution_count": 1,
   "metadata": {},
   "outputs": [],
   "source": [
    "# Import Libraries\n",
    "import pandas as pd\n",
    "from pathlib import Path"
   ]
  },
  {
   "cell_type": "markdown",
   "metadata": {},
   "source": [
    "### Load CSV data into Pandas using `read_csv`"
   ]
  },
  {
   "cell_type": "code",
   "execution_count": 2,
   "metadata": {},
   "outputs": [],
   "source": [
    "csv_path = Path(\"../../Resources/stock_data.csv\")\n",
    "stock_csv = pd.read_csv(csv_path, index_col = \"symbol\")"
   ]
  },
  {
   "cell_type": "markdown",
   "metadata": {},
   "source": [
    "### Identify the number of rows and columns (shape) in the DataFrame."
   ]
  },
  {
   "cell_type": "code",
   "execution_count": 3,
   "metadata": {},
   "outputs": [
    {
     "data": {
      "text/plain": [
       "(504, 13)"
      ]
     },
     "execution_count": 3,
     "metadata": {},
     "output_type": "execute_result"
    }
   ],
   "source": [
    "stock_csv.shape"
   ]
  },
  {
   "cell_type": "markdown",
   "metadata": {},
   "source": [
    "### Generate a sample of the data to visually ensure data has been loaded in correctly."
   ]
  },
  {
   "cell_type": "code",
   "execution_count": 4,
   "metadata": {},
   "outputs": [
    {
     "data": {
      "text/html": [
       "<div>\n",
       "<style scoped>\n",
       "    .dataframe tbody tr th:only-of-type {\n",
       "        vertical-align: middle;\n",
       "    }\n",
       "\n",
       "    .dataframe tbody tr th {\n",
       "        vertical-align: top;\n",
       "    }\n",
       "\n",
       "    .dataframe thead th {\n",
       "        text-align: right;\n",
       "    }\n",
       "</style>\n",
       "<table border=\"1\" class=\"dataframe\">\n",
       "  <thead>\n",
       "    <tr style=\"text-align: right;\">\n",
       "      <th></th>\n",
       "      <th>name</th>\n",
       "      <th>sector</th>\n",
       "      <th>price</th>\n",
       "      <th>price_per_earnings</th>\n",
       "      <th>dividend_yield</th>\n",
       "      <th>earnings_per_share</th>\n",
       "      <th>52_week_low</th>\n",
       "      <th>52_week_high</th>\n",
       "      <th>market_cap</th>\n",
       "      <th>ebitda</th>\n",
       "      <th>price_per_sales</th>\n",
       "      <th>price_per_book</th>\n",
       "      <th>sec_filings</th>\n",
       "    </tr>\n",
       "    <tr>\n",
       "      <th>symbol</th>\n",
       "      <th></th>\n",
       "      <th></th>\n",
       "      <th></th>\n",
       "      <th></th>\n",
       "      <th></th>\n",
       "      <th></th>\n",
       "      <th></th>\n",
       "      <th></th>\n",
       "      <th></th>\n",
       "      <th></th>\n",
       "      <th></th>\n",
       "      <th></th>\n",
       "      <th></th>\n",
       "    </tr>\n",
       "  </thead>\n",
       "  <tbody>\n",
       "    <tr>\n",
       "      <th>BA</th>\n",
       "      <td>Boeing Company</td>\n",
       "      <td>Industrials</td>\n",
       "      <td>329.66</td>\n",
       "      <td>27.29</td>\n",
       "      <td>1.964840</td>\n",
       "      <td>13.47</td>\n",
       "      <td>361.45</td>\n",
       "      <td>163.69</td>\n",
       "      <td>2.056174e+11</td>\n",
       "      <td>NaN</td>\n",
       "      <td>2.156061</td>\n",
       "      <td>182.86</td>\n",
       "      <td>http://www.sec.gov/cgi-bin/browse-edgar?action...</td>\n",
       "    </tr>\n",
       "    <tr>\n",
       "      <th>ALXN</th>\n",
       "      <td>Alexion Pharmaceuticals</td>\n",
       "      <td>Health Care</td>\n",
       "      <td>108.47</td>\n",
       "      <td>22.18</td>\n",
       "      <td>0.000000</td>\n",
       "      <td>1.77</td>\n",
       "      <td>149.34</td>\n",
       "      <td>96.18</td>\n",
       "      <td>2.617244e+10</td>\n",
       "      <td>1.072000e+09</td>\n",
       "      <td>9.720562</td>\n",
       "      <td>2.82</td>\n",
       "      <td>http://www.sec.gov/cgi-bin/browse-edgar?action...</td>\n",
       "    </tr>\n",
       "    <tr>\n",
       "      <th>ULTA</th>\n",
       "      <td>Ulta Salon Cosmetics &amp; Fragrance Inc</td>\n",
       "      <td>Consumer Discretionary</td>\n",
       "      <td>209.09</td>\n",
       "      <td>32.07</td>\n",
       "      <td>0.000000</td>\n",
       "      <td>6.52</td>\n",
       "      <td>314.86</td>\n",
       "      <td>187.96</td>\n",
       "      <td>1.330000e+10</td>\n",
       "      <td>1.002093e+09</td>\n",
       "      <td>3.377911</td>\n",
       "      <td>8.04</td>\n",
       "      <td>http://www.sec.gov/cgi-bin/browse-edgar?action...</td>\n",
       "    </tr>\n",
       "    <tr>\n",
       "      <th>APC</th>\n",
       "      <td>Anadarko Petroleum Corp</td>\n",
       "      <td>Energy</td>\n",
       "      <td>56.2</td>\n",
       "      <td>-21.29</td>\n",
       "      <td>1.702997</td>\n",
       "      <td>-5.9</td>\n",
       "      <td>70.00</td>\n",
       "      <td>39.96</td>\n",
       "      <td>3.212909e+10</td>\n",
       "      <td>NaN</td>\n",
       "      <td>3.968221</td>\n",
       "      <td>2.88</td>\n",
       "      <td>http://www.sec.gov/cgi-bin/browse-edgar?action...</td>\n",
       "    </tr>\n",
       "    <tr>\n",
       "      <th>MA</th>\n",
       "      <td>Mastercard Inc.</td>\n",
       "      <td>Information Technology</td>\n",
       "      <td>160.62</td>\n",
       "      <td>34.99</td>\n",
       "      <td>0.592663</td>\n",
       "      <td>3.65</td>\n",
       "      <td>177.11</td>\n",
       "      <td>105.80</td>\n",
       "      <td>1.871020e+11</td>\n",
       "      <td>7.113000e+09</td>\n",
       "      <td>15.020556</td>\n",
       "      <td>26.93</td>\n",
       "      <td>http://www.sec.gov/cgi-bin/browse-edgar?action...</td>\n",
       "    </tr>\n",
       "  </tbody>\n",
       "</table>\n",
       "</div>"
      ],
      "text/plain": [
       "                                        name                  sector   price  \\\n",
       "symbol                                                                         \n",
       "BA                            Boeing Company             Industrials  329.66   \n",
       "ALXN                 Alexion Pharmaceuticals             Health Care  108.47   \n",
       "ULTA    Ulta Salon Cosmetics & Fragrance Inc  Consumer Discretionary  209.09   \n",
       "APC                  Anadarko Petroleum Corp                  Energy    56.2   \n",
       "MA                           Mastercard Inc.  Information Technology  160.62   \n",
       "\n",
       "        price_per_earnings  dividend_yield earnings_per_share  52_week_low  \\\n",
       "symbol                                                                       \n",
       "BA                   27.29        1.964840              13.47       361.45   \n",
       "ALXN                 22.18        0.000000               1.77       149.34   \n",
       "ULTA                 32.07        0.000000               6.52       314.86   \n",
       "APC                 -21.29        1.702997               -5.9        70.00   \n",
       "MA                   34.99        0.592663               3.65       177.11   \n",
       "\n",
       "        52_week_high    market_cap        ebitda  price_per_sales  \\\n",
       "symbol                                                              \n",
       "BA            163.69  2.056174e+11           NaN         2.156061   \n",
       "ALXN           96.18  2.617244e+10  1.072000e+09         9.720562   \n",
       "ULTA          187.96  1.330000e+10  1.002093e+09         3.377911   \n",
       "APC            39.96  3.212909e+10           NaN         3.968221   \n",
       "MA            105.80  1.871020e+11  7.113000e+09        15.020556   \n",
       "\n",
       "        price_per_book                                        sec_filings  \n",
       "symbol                                                                     \n",
       "BA              182.86  http://www.sec.gov/cgi-bin/browse-edgar?action...  \n",
       "ALXN              2.82  http://www.sec.gov/cgi-bin/browse-edgar?action...  \n",
       "ULTA              8.04  http://www.sec.gov/cgi-bin/browse-edgar?action...  \n",
       "APC               2.88  http://www.sec.gov/cgi-bin/browse-edgar?action...  \n",
       "MA               26.93  http://www.sec.gov/cgi-bin/browse-edgar?action...  "
      ]
     },
     "execution_count": 4,
     "metadata": {},
     "output_type": "execute_result"
    }
   ],
   "source": [
    "stock_csv.sample(5)"
   ]
  },
  {
   "cell_type": "markdown",
   "metadata": {},
   "source": [
    "### Identify the number of records in the DataFrame, and compare it with the number of rows in the original file."
   ]
  },
  {
   "cell_type": "code",
   "execution_count": 5,
   "metadata": {},
   "outputs": [
    {
     "data": {
      "text/plain": [
       "name                  502\n",
       "sector                501\n",
       "price                 500\n",
       "price_per_earnings    497\n",
       "dividend_yield        499\n",
       "earnings_per_share    498\n",
       "52_week_low           500\n",
       "52_week_high          500\n",
       "market_cap            500\n",
       "ebitda                492\n",
       "price_per_sales       500\n",
       "price_per_book        492\n",
       "sec_filings           500\n",
       "dtype: int64"
      ]
     },
     "execution_count": 5,
     "metadata": {},
     "output_type": "execute_result"
    }
   ],
   "source": [
    "#stock_csv.value_counts()\n",
    "stock_csv.count()"
   ]
  },
  {
   "cell_type": "markdown",
   "metadata": {},
   "source": [
    "### Identify nulls records"
   ]
  },
  {
   "cell_type": "code",
   "execution_count": 6,
   "metadata": {},
   "outputs": [
    {
     "data": {
      "text/plain": [
       "name                   2\n",
       "sector                 3\n",
       "price                  4\n",
       "price_per_earnings     7\n",
       "dividend_yield         5\n",
       "earnings_per_share     6\n",
       "52_week_low            4\n",
       "52_week_high           4\n",
       "market_cap             4\n",
       "ebitda                12\n",
       "price_per_sales        4\n",
       "price_per_book        12\n",
       "sec_filings            4\n",
       "dtype: int64"
      ]
     },
     "execution_count": 6,
     "metadata": {},
     "output_type": "execute_result"
    }
   ],
   "source": [
    "stock_csv.isnull().sum()"
   ]
  },
  {
   "cell_type": "markdown",
   "metadata": {},
   "source": [
    "### Drop Null Records"
   ]
  },
  {
   "cell_type": "code",
   "execution_count": 7,
   "metadata": {},
   "outputs": [],
   "source": [
    "stock_csv = stock_csv.dropna()"
   ]
  },
  {
   "cell_type": "markdown",
   "metadata": {},
   "source": [
    "### Validate nulls have been dropped"
   ]
  },
  {
   "cell_type": "code",
   "execution_count": 8,
   "metadata": {},
   "outputs": [
    {
     "data": {
      "text/plain": [
       "name                  0\n",
       "sector                0\n",
       "price                 0\n",
       "price_per_earnings    0\n",
       "dividend_yield        0\n",
       "earnings_per_share    0\n",
       "52_week_low           0\n",
       "52_week_high          0\n",
       "market_cap            0\n",
       "ebitda                0\n",
       "price_per_sales       0\n",
       "price_per_book        0\n",
       "sec_filings           0\n",
       "dtype: int64"
      ]
     },
     "execution_count": 8,
     "metadata": {},
     "output_type": "execute_result"
    }
   ],
   "source": [
    "stock_csv.isnull().sum()"
   ]
  },
  {
   "cell_type": "markdown",
   "metadata": {},
   "source": [
    "### Default null `ebitda` values to 0. Then, validate no records are null for ebitda."
   ]
  },
  {
   "cell_type": "code",
   "execution_count": 10,
   "metadata": {},
   "outputs": [
    {
     "data": {
      "text/plain": [
       "0"
      ]
     },
     "execution_count": 9,
     "metadata": {},
     "output_type": "execute_result"
    }
   ],
   "source": [
    "stock_csv[\"ebitda\"].isnull().sum()\n",
    "stock_csv[\"ebitda\"] = stock_csv[\"ebitda\"].fillna(0) \n",
    "stock_csv[\"ebitda\"].isnull().sum()"
   ]
  },
  {
   "cell_type": "markdown",
   "metadata": {},
   "source": [
    "### Drop Duplicates"
   ]
  },
  {
   "cell_type": "code",
   "execution_count": 11,
   "metadata": {},
   "outputs": [],
   "source": [
    "stock_csv = stock_csv.drop_duplicates()"
   ]
  },
  {
   "cell_type": "markdown",
   "metadata": {},
   "source": [
    "### Sample `price` field"
   ]
  },
  {
   "cell_type": "code",
   "execution_count": null,
   "metadata": {},
   "outputs": [
    {
     "data": {
      "text/plain": [
       "symbol\n",
       "MAC     58.36\n",
       "JCI     36.55\n",
       "PG      80.22\n",
       "TJX     74.36\n",
       "ROST    75.06\n",
       "Name: price, dtype: object"
      ]
     },
     "execution_count": 11,
     "metadata": {},
     "output_type": "execute_result"
    }
   ],
   "source": [
    "stock_csv[\"price\"].sample(5)"
   ]
  },
  {
   "cell_type": "markdown",
   "metadata": {},
   "source": [
    "### Clean `price` Series by replacing `$`"
   ]
  },
  {
   "cell_type": "code",
   "execution_count": 14,
   "metadata": {},
   "outputs": [
    {
     "name": "stderr",
     "output_type": "stream",
     "text": [
      "C:\\Users\\range\\anaconda3\\envs\\dev\\lib\\site-packages\\ipykernel_launcher.py:1: FutureWarning: The default value of regex will change from True to False in a future version. In addition, single character regular expressions will *not* be treated as literal strings when regex=True.\n",
      "  \"\"\"Entry point for launching an IPython kernel.\n"
     ]
    },
    {
     "data": {
      "text/plain": [
       "symbol\n",
       "MMM     222.89\n",
       "ABT      56.27\n",
       "ABBV    108.48\n",
       "AYI     108.48\n",
       "ADBE    185.16\n",
       "         ...  \n",
       "XYL      70.24\n",
       "YUM       76.3\n",
       "ZBH     115.53\n",
       "ZION     50.71\n",
       "ZTS      71.51\n",
       "Name: price, Length: 478, dtype: object"
      ]
     },
     "execution_count": 14,
     "metadata": {},
     "output_type": "execute_result"
    }
   ],
   "source": [
    "stock_csv['price'] = stock_csv['price'].str.replace(\"$\", \"\")\n",
    "stock_csv['price']"
   ]
  },
  {
   "cell_type": "markdown",
   "metadata": {},
   "source": [
    "### Confirm data type of `price`"
   ]
  },
  {
   "cell_type": "code",
   "execution_count": 15,
   "metadata": {},
   "outputs": [
    {
     "data": {
      "text/plain": [
       "dtype('O')"
      ]
     },
     "execution_count": 15,
     "metadata": {},
     "output_type": "execute_result"
    }
   ],
   "source": [
    "stock_csv[\"price\"].dtype"
   ]
  },
  {
   "cell_type": "markdown",
   "metadata": {},
   "source": [
    "### Cast `price` Series as float and then validate using `dtype`"
   ]
  },
  {
   "cell_type": "code",
   "execution_count": 19,
   "metadata": {},
   "outputs": [
    {
     "name": "stderr",
     "output_type": "stream",
     "text": [
      "C:\\Users\\range\\anaconda3\\envs\\dev\\lib\\site-packages\\pandas\\core\\dtypes\\cast.py:1201: ComplexWarning: Casting complex values to real discards the imaginary part\n",
      "  return arr.astype(dtype, copy=True)\n"
     ]
    },
    {
     "data": {
      "text/plain": [
       "symbol\n",
       "MMM     222.0\n",
       "ABT      56.0\n",
       "ABBV    108.0\n",
       "AYI     108.0\n",
       "ADBE    185.0\n",
       "        ...  \n",
       "XYL      70.0\n",
       "YUM      76.0\n",
       "ZBH     115.0\n",
       "ZION     50.0\n",
       "ZTS      71.0\n",
       "Name: price, Length: 478, dtype: float64"
      ]
     },
     "execution_count": 19,
     "metadata": {},
     "output_type": "execute_result"
    }
   ],
   "source": [
    "stock_csv[\"price\"] = stock_csv[\"price\"].astype(\"float\")\n",
    "stock_csv[\"price\"].dtype\n",
    "stock_csv[\"price\"]"
   ]
  },
  {
   "cell_type": "code",
   "execution_count": null,
   "metadata": {},
   "outputs": [],
   "source": []
  },
  {
   "cell_type": "code",
   "execution_count": null,
   "metadata": {},
   "outputs": [],
   "source": []
  }
 ],
 "metadata": {
  "kernelspec": {
   "display_name": "Python 3 (ipykernel)",
   "language": "python",
   "name": "python3"
  },
  "language_info": {
   "codemirror_mode": {
    "name": "ipython",
    "version": 3
   },
   "file_extension": ".py",
   "mimetype": "text/x-python",
   "name": "python",
   "nbconvert_exporter": "python",
   "pygments_lexer": "ipython3",
   "version": "3.7.13"
  }
 },
 "nbformat": 4,
 "nbformat_minor": 4
}
