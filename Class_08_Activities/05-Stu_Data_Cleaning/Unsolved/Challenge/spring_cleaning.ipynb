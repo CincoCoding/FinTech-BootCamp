{
 "cells": [
  {
   "cell_type": "markdown",
   "metadata": {},
   "source": [
    "# Spring Cleaning!"
   ]
  },
  {
   "cell_type": "markdown",
   "metadata": {},
   "source": [
    "Harold's stock data is a mess! Help him clean up his data before the auditors arrive!"
   ]
  },
  {
   "cell_type": "code",
   "execution_count": 1,
   "metadata": {},
   "outputs": [],
   "source": [
    "# Import Libraries\n",
    "import pandas as pd\n",
    "from pathlib import Path"
   ]
  },
  {
   "cell_type": "markdown",
   "metadata": {},
   "source": [
    "### Load CSV data into Pandas using `read_csv`"
   ]
  },
  {
   "cell_type": "code",
   "execution_count": 2,
   "metadata": {},
   "outputs": [],
   "source": [
    "csv_path = Path(\"../../Resources/stock_data.csv\")\n",
    "stock_csv = pd.read_csv(csv_path, index_col = \"symbol\")"
   ]
  },
  {
   "cell_type": "markdown",
   "metadata": {},
   "source": [
    "### Identify the number of rows and columns (shape) in the DataFrame."
   ]
  },
  {
   "cell_type": "code",
   "execution_count": 3,
   "metadata": {},
   "outputs": [
    {
     "data": {
      "text/plain": [
       "(504, 13)"
      ]
     },
     "execution_count": 3,
     "metadata": {},
     "output_type": "execute_result"
    }
   ],
   "source": [
    "stock_csv.shape"
   ]
  },
  {
   "cell_type": "markdown",
   "metadata": {},
   "source": [
    "### Generate a sample of the data to visually ensure data has been loaded in correctly."
   ]
  },
  {
   "cell_type": "code",
   "execution_count": 4,
   "metadata": {},
   "outputs": [
    {
     "data": {
      "text/html": [
       "<div>\n",
       "<style scoped>\n",
       "    .dataframe tbody tr th:only-of-type {\n",
       "        vertical-align: middle;\n",
       "    }\n",
       "\n",
       "    .dataframe tbody tr th {\n",
       "        vertical-align: top;\n",
       "    }\n",
       "\n",
       "    .dataframe thead th {\n",
       "        text-align: right;\n",
       "    }\n",
       "</style>\n",
       "<table border=\"1\" class=\"dataframe\">\n",
       "  <thead>\n",
       "    <tr style=\"text-align: right;\">\n",
       "      <th></th>\n",
       "      <th>name</th>\n",
       "      <th>sector</th>\n",
       "      <th>price</th>\n",
       "      <th>price_per_earnings</th>\n",
       "      <th>dividend_yield</th>\n",
       "      <th>earnings_per_share</th>\n",
       "      <th>52_week_low</th>\n",
       "      <th>52_week_high</th>\n",
       "      <th>market_cap</th>\n",
       "      <th>ebitda</th>\n",
       "      <th>price_per_sales</th>\n",
       "      <th>price_per_book</th>\n",
       "      <th>sec_filings</th>\n",
       "    </tr>\n",
       "    <tr>\n",
       "      <th>symbol</th>\n",
       "      <th></th>\n",
       "      <th></th>\n",
       "      <th></th>\n",
       "      <th></th>\n",
       "      <th></th>\n",
       "      <th></th>\n",
       "      <th></th>\n",
       "      <th></th>\n",
       "      <th></th>\n",
       "      <th></th>\n",
       "      <th></th>\n",
       "      <th></th>\n",
       "      <th></th>\n",
       "    </tr>\n",
       "  </thead>\n",
       "  <tbody>\n",
       "    <tr>\n",
       "      <th>LB</th>\n",
       "      <td>L Brands Inc.</td>\n",
       "      <td>Consumer Discretionary</td>\n",
       "      <td>47.77</td>\n",
       "      <td>12.77</td>\n",
       "      <td>4.886988</td>\n",
       "      <td>3.98</td>\n",
       "      <td>63.10</td>\n",
       "      <td>35.00</td>\n",
       "      <td>1.386204e+10</td>\n",
       "      <td>2.329000e+09</td>\n",
       "      <td>1.706098</td>\n",
       "      <td>1403.38</td>\n",
       "      <td>http://www.sec.gov/cgi-bin/browse-edgar?action...</td>\n",
       "    </tr>\n",
       "    <tr>\n",
       "      <th>AEP</th>\n",
       "      <td>American Electric Power</td>\n",
       "      <td>Utilities</td>\n",
       "      <td>63.38</td>\n",
       "      <td>17.32</td>\n",
       "      <td>3.847944</td>\n",
       "      <td>1.24</td>\n",
       "      <td>78.07</td>\n",
       "      <td>62.69</td>\n",
       "      <td>3.170192e+10</td>\n",
       "      <td>4.450800e+09</td>\n",
       "      <td>2.748993</td>\n",
       "      <td>1.81</td>\n",
       "      <td>http://www.sec.gov/cgi-bin/browse-edgar?action...</td>\n",
       "    </tr>\n",
       "    <tr>\n",
       "      <th>GIS</th>\n",
       "      <td>General Mills</td>\n",
       "      <td>Consumer Staples</td>\n",
       "      <td>53.99</td>\n",
       "      <td>17.53</td>\n",
       "      <td>3.586459</td>\n",
       "      <td>2.77</td>\n",
       "      <td>63.73</td>\n",
       "      <td>49.65</td>\n",
       "      <td>3.109824e+10</td>\n",
       "      <td>3.107600e+09</td>\n",
       "      <td>2.038918</td>\n",
       "      <td>7.26</td>\n",
       "      <td>http://www.sec.gov/cgi-bin/browse-edgar?action...</td>\n",
       "    </tr>\n",
       "    <tr>\n",
       "      <th>SO</th>\n",
       "      <td>Southern Co.</td>\n",
       "      <td>Utilities</td>\n",
       "      <td>43.4</td>\n",
       "      <td>15.78</td>\n",
       "      <td>5.353023</td>\n",
       "      <td>2.53</td>\n",
       "      <td>53.51</td>\n",
       "      <td>42.63</td>\n",
       "      <td>4.349722e+10</td>\n",
       "      <td>6.012000e+09</td>\n",
       "      <td>2.508060</td>\n",
       "      <td>1.82</td>\n",
       "      <td>http://www.sec.gov/cgi-bin/browse-edgar?action...</td>\n",
       "    </tr>\n",
       "    <tr>\n",
       "      <th>EOG</th>\n",
       "      <td>EOG Resources</td>\n",
       "      <td>Energy</td>\n",
       "      <td>101.04</td>\n",
       "      <td>246.44</td>\n",
       "      <td>0.633390</td>\n",
       "      <td>-1.98</td>\n",
       "      <td>119.00</td>\n",
       "      <td>81.99</td>\n",
       "      <td>6.116403e+10</td>\n",
       "      <td>3.692749e+09</td>\n",
       "      <td>8.023020</td>\n",
       "      <td>4.55</td>\n",
       "      <td>http://www.sec.gov/cgi-bin/browse-edgar?action...</td>\n",
       "    </tr>\n",
       "  </tbody>\n",
       "</table>\n",
       "</div>"
      ],
      "text/plain": [
       "                           name                  sector   price  \\\n",
       "symbol                                                            \n",
       "LB                L Brands Inc.  Consumer Discretionary   47.77   \n",
       "AEP     American Electric Power               Utilities   63.38   \n",
       "GIS               General Mills        Consumer Staples   53.99   \n",
       "SO                 Southern Co.               Utilities    43.4   \n",
       "EOG               EOG Resources                  Energy  101.04   \n",
       "\n",
       "        price_per_earnings  dividend_yield earnings_per_share  52_week_low  \\\n",
       "symbol                                                                       \n",
       "LB                   12.77        4.886988               3.98        63.10   \n",
       "AEP                  17.32        3.847944               1.24        78.07   \n",
       "GIS                  17.53        3.586459               2.77        63.73   \n",
       "SO                   15.78        5.353023               2.53        53.51   \n",
       "EOG                 246.44        0.633390              -1.98       119.00   \n",
       "\n",
       "        52_week_high    market_cap        ebitda  price_per_sales  \\\n",
       "symbol                                                              \n",
       "LB             35.00  1.386204e+10  2.329000e+09         1.706098   \n",
       "AEP            62.69  3.170192e+10  4.450800e+09         2.748993   \n",
       "GIS            49.65  3.109824e+10  3.107600e+09         2.038918   \n",
       "SO             42.63  4.349722e+10  6.012000e+09         2.508060   \n",
       "EOG            81.99  6.116403e+10  3.692749e+09         8.023020   \n",
       "\n",
       "        price_per_book                                        sec_filings  \n",
       "symbol                                                                     \n",
       "LB             1403.38  http://www.sec.gov/cgi-bin/browse-edgar?action...  \n",
       "AEP               1.81  http://www.sec.gov/cgi-bin/browse-edgar?action...  \n",
       "GIS               7.26  http://www.sec.gov/cgi-bin/browse-edgar?action...  \n",
       "SO                1.82  http://www.sec.gov/cgi-bin/browse-edgar?action...  \n",
       "EOG               4.55  http://www.sec.gov/cgi-bin/browse-edgar?action...  "
      ]
     },
     "execution_count": 4,
     "metadata": {},
     "output_type": "execute_result"
    }
   ],
   "source": [
    "stock_csv.sample(5)"
   ]
  },
  {
   "cell_type": "markdown",
   "metadata": {},
   "source": [
    "### Identify the number of records in the DataFrame, and compare it with the number of rows in the original file."
   ]
  },
  {
   "cell_type": "code",
   "execution_count": 5,
   "metadata": {},
   "outputs": [
    {
     "data": {
      "text/plain": [
       "name                  502\n",
       "sector                501\n",
       "price                 500\n",
       "price_per_earnings    497\n",
       "dividend_yield        499\n",
       "earnings_per_share    498\n",
       "52_week_low           500\n",
       "52_week_high          500\n",
       "market_cap            500\n",
       "ebitda                492\n",
       "price_per_sales       500\n",
       "price_per_book        492\n",
       "sec_filings           500\n",
       "dtype: int64"
      ]
     },
     "execution_count": 5,
     "metadata": {},
     "output_type": "execute_result"
    }
   ],
   "source": [
    "#stock_csv.value_counts()\n",
    "stock_csv.count()"
   ]
  },
  {
   "cell_type": "markdown",
   "metadata": {},
   "source": [
    "### Identify nulls records"
   ]
  },
  {
   "cell_type": "code",
   "execution_count": 6,
   "metadata": {},
   "outputs": [
    {
     "data": {
      "text/plain": [
       "name                   2\n",
       "sector                 3\n",
       "price                  4\n",
       "price_per_earnings     7\n",
       "dividend_yield         5\n",
       "earnings_per_share     6\n",
       "52_week_low            4\n",
       "52_week_high           4\n",
       "market_cap             4\n",
       "ebitda                12\n",
       "price_per_sales        4\n",
       "price_per_book        12\n",
       "sec_filings            4\n",
       "dtype: int64"
      ]
     },
     "execution_count": 6,
     "metadata": {},
     "output_type": "execute_result"
    }
   ],
   "source": [
    "stock_csv.isnull().sum()"
   ]
  },
  {
   "cell_type": "markdown",
   "metadata": {},
   "source": [
    "### Drop Null Records"
   ]
  },
  {
   "cell_type": "code",
   "execution_count": 7,
   "metadata": {},
   "outputs": [],
   "source": [
    "stock_csv = stock_csv.dropna()"
   ]
  },
  {
   "cell_type": "markdown",
   "metadata": {},
   "source": [
    "### Validate nulls have been dropped"
   ]
  },
  {
   "cell_type": "code",
   "execution_count": 8,
   "metadata": {},
   "outputs": [
    {
     "data": {
      "text/plain": [
       "name                  0\n",
       "sector                0\n",
       "price                 0\n",
       "price_per_earnings    0\n",
       "dividend_yield        0\n",
       "earnings_per_share    0\n",
       "52_week_low           0\n",
       "52_week_high          0\n",
       "market_cap            0\n",
       "ebitda                0\n",
       "price_per_sales       0\n",
       "price_per_book        0\n",
       "sec_filings           0\n",
       "dtype: int64"
      ]
     },
     "execution_count": 8,
     "metadata": {},
     "output_type": "execute_result"
    }
   ],
   "source": [
    "stock_csv.isnull().sum()"
   ]
  },
  {
   "cell_type": "markdown",
   "metadata": {},
   "source": [
    "### Default null `ebitda` values to 0. Then, validate no records are null for ebitda."
   ]
  },
  {
   "cell_type": "code",
   "execution_count": 9,
   "metadata": {},
   "outputs": [
    {
     "data": {
      "text/plain": [
       "0"
      ]
     },
     "execution_count": 9,
     "metadata": {},
     "output_type": "execute_result"
    }
   ],
   "source": [
    "stock_csv[\"ebitda\"].isnull().sum()\n",
    "stock_csv[\"ebitda\"] = stock_csv[\"ebitda\"].fillna(0) \n",
    "stock_csv[\"ebitda\"].isnull().sum()"
   ]
  },
  {
   "cell_type": "markdown",
   "metadata": {},
   "source": [
    "### Drop Duplicates"
   ]
  },
  {
   "cell_type": "code",
   "execution_count": 13,
   "metadata": {},
   "outputs": [],
   "source": [
    "stock_csv = stock_csv.drop_duplicates()"
   ]
  },
  {
   "cell_type": "markdown",
   "metadata": {},
   "source": [
    "### Sample `price` field"
   ]
  },
  {
   "cell_type": "code",
   "execution_count": 16,
   "metadata": {},
   "outputs": [
    {
     "data": {
      "text/plain": [
       "symbol\n",
       "FAST     52.15\n",
       "ALK      64.04\n",
       "RSG      62.72\n",
       "TROW    101.99\n",
       "CB      140.39\n",
       "Name: price, dtype: object"
      ]
     },
     "execution_count": 16,
     "metadata": {},
     "output_type": "execute_result"
    }
   ],
   "source": [
    "stock_csv[\"price\"].sample(5)"
   ]
  },
  {
   "cell_type": "markdown",
   "metadata": {},
   "source": [
    "### Clean `price` Series by replacing `$`"
   ]
  },
  {
   "cell_type": "code",
   "execution_count": 15,
   "metadata": {},
   "outputs": [
    {
     "name": "stderr",
     "output_type": "stream",
     "text": [
      "C:\\Users\\range\\anaconda3\\envs\\dev\\lib\\site-packages\\ipykernel_launcher.py:1: FutureWarning: The default value of regex will change from True to False in a future version. In addition, single character regular expressions will *not* be treated as literal strings when regex=True.\n",
      "  \"\"\"Entry point for launching an IPython kernel.\n"
     ]
    },
    {
     "data": {
      "text/plain": [
       "symbol\n",
       "MMM      222.89\n",
       "ABT       56.27\n",
       "ABBV     108.48\n",
       "AYI      108.48\n",
       "ADBE     185.16\n",
       "         ...   \n",
       "XYL       70.24\n",
       "YUM        76.3\n",
       "ZBH      115.53\n",
       "ZION      50.71\n",
       "ZTS       71.51\n",
       "Name: price, Length: 478, dtype: object"
      ]
     },
     "execution_count": 15,
     "metadata": {},
     "output_type": "execute_result"
    }
   ],
   "source": [
    "stock_csv[\"price\"] = stock_csv[\"price\"].str.replace(\"$\", \" \")\n",
    "stock_csv[\"price\"]"
   ]
  },
  {
   "cell_type": "markdown",
   "metadata": {},
   "source": [
    "### Confirm data type of `price`"
   ]
  },
  {
   "cell_type": "code",
   "execution_count": 18,
   "metadata": {},
   "outputs": [
    {
     "data": {
      "text/plain": [
       "dtype('O')"
      ]
     },
     "execution_count": 18,
     "metadata": {},
     "output_type": "execute_result"
    }
   ],
   "source": [
    "stock_csv[\"price\"].dtype"
   ]
  },
  {
   "cell_type": "markdown",
   "metadata": {},
   "source": [
    "### Cast `price` Series as float and then validate using `dtype`"
   ]
  },
  {
   "cell_type": "code",
   "execution_count": 20,
   "metadata": {},
   "outputs": [
    {
     "data": {
      "text/plain": [
       "symbol\n",
       "MMM     222.89\n",
       "ABT      56.27\n",
       "ABBV    108.48\n",
       "AYI     108.48\n",
       "ADBE    185.16\n",
       "         ...  \n",
       "XYL      70.24\n",
       "YUM      76.30\n",
       "ZBH     115.53\n",
       "ZION     50.71\n",
       "ZTS      71.51\n",
       "Name: price, Length: 478, dtype: float64"
      ]
     },
     "execution_count": 20,
     "metadata": {},
     "output_type": "execute_result"
    }
   ],
   "source": [
    "stock_csv[\"price\"] = stock_csv[\"price\"].astype(\"float\")\n",
    "stock_csv[\"price\"].dtype\n",
    "stock_csv[\"price\"]"
   ]
  },
  {
   "cell_type": "code",
   "execution_count": null,
   "metadata": {},
   "outputs": [],
   "source": []
  }
 ],
 "metadata": {
  "kernelspec": {
   "display_name": "Python 3 (ipykernel)",
   "language": "python",
   "name": "python3"
  },
  "language_info": {
   "codemirror_mode": {
    "name": "ipython",
    "version": 3
   },
   "file_extension": ".py",
   "mimetype": "text/x-python",
   "name": "python",
   "nbconvert_exporter": "python",
   "pygments_lexer": "ipython3",
   "version": "3.7.13"
  }
 },
 "nbformat": 4,
 "nbformat_minor": 4
}
