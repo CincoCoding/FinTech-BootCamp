{
 "cells": [
  {
   "cell_type": "code",
   "execution_count": 1,
   "id": "8aac9b4c-80e5-4e2b-a210-47b67e30624b",
   "metadata": {},
   "outputs": [],
   "source": [
    "## instructions\n",
    "#counting letters\n",
    "#write a function\n",
    "#counts how many times each letter is in a string\n",
    "#\n",
    "#\"test\"\n",
    "#t = 2\n",
    "#e=1\n",
    "#s=1"
   ]
  },
  {
   "cell_type": "code",
   "execution_count": 2,
   "id": "1f1ce34d-0c92-4566-81d3-9f5f3427ef00",
   "metadata": {},
   "outputs": [],
   "source": [
    "#imports\n",
    "import pandas as pd"
   ]
  },
  {
   "cell_type": "code",
   "execution_count": 26,
   "id": "c2da630e-9dd4-45af-930c-7812ccf01683",
   "metadata": {},
   "outputs": [
    {
     "data": {
      "text/plain": [
       "T    1\n",
       "e    1\n",
       "s    1\n",
       "t    1\n",
       "dtype: int64"
      ]
     },
     "execution_count": 26,
     "metadata": {},
     "output_type": "execute_result"
    }
   ],
   "source": [
    "# variables\n",
    "word_2_b_counted = \"Test\"\n",
    "\n",
    "# function\n",
    "def letter_counter(word_string):\n",
    "    letter_list = []\n",
    "    # Iterate thru loop\n",
    "    for letter in word_string:\n",
    "        letter_list += letter\n",
    "    # values_count\n",
    "    return pd.value_counts(letter_list)    \n",
    "\n",
    "letter_counter(word_2_b_counted)"
   ]
  },
  {
   "cell_type": "code",
   "execution_count": null,
   "id": "c8ef19ed-fae1-43c0-b203-85ad745ad501",
   "metadata": {},
   "outputs": [],
   "source": []
  }
 ],
 "metadata": {
  "kernelspec": {
   "display_name": "Python 3 (ipykernel)",
   "language": "python",
   "name": "python3"
  },
  "language_info": {
   "codemirror_mode": {
    "name": "ipython",
    "version": 3
   },
   "file_extension": ".py",
   "mimetype": "text/x-python",
   "name": "python",
   "nbconvert_exporter": "python",
   "pygments_lexer": "ipython3",
   "version": "3.7.13"
  }
 },
 "nbformat": 4,
 "nbformat_minor": 5
}
