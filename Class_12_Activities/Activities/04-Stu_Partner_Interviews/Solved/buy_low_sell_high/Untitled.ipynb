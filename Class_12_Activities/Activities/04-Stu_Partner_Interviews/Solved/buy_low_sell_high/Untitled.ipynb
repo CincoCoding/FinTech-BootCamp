{
 "cells": [
  {
   "cell_type": "code",
   "execution_count": 1,
   "id": "6ada73a4-9271-40ba-8f46-aff488158a42",
   "metadata": {},
   "outputs": [],
   "source": [
    "# instructions\n",
    "#IAG dec 12 2015 buy 10k shares at 1.42 sold at 11am  1.85\n",
    "#$433 profit\n",
    "#[1.42, 1.32, 1.45, 1.20, 1.34, 1.74, 1.10, 1.89, 1.42, 1.90, 1.80, 1.85]\n",
    "#create a function that takes list of prices in chronological order and finds max profit using the smallest price and largest price"
   ]
  },
  {
   "cell_type": "code",
   "execution_count": 2,
   "id": "158e18ca-3a3e-4a77-84b9-69c2c0012422",
   "metadata": {},
   "outputs": [],
   "source": [
    "# important numbers\n",
    "#price_chrono_list = [1.42, 1.32, 1.45, 1.20, 1.34, 1.74, 1.10, 1.89, 1.42, 1.90, 1.80, 1.85]\n",
    "#max profit\n",
    "#smallest price\n",
    "#largest price"
   ]
  },
  {
   "cell_type": "code",
   "execution_count": 3,
   "id": "846e54a1-eb91-4200-a289-3157558e5323",
   "metadata": {},
   "outputs": [],
   "source": [
    "#import"
   ]
  },
  {
   "cell_type": "code",
   "execution_count": 4,
   "id": "100e196d-8d62-41ea-8727-b75ef974750c",
   "metadata": {},
   "outputs": [],
   "source": [
    "#variables \n",
    "price_chrono_list = [1.42, 1.32, 1.45, 1.20, 1.34, 1.74, 1.10, 1.89, 1.42, 1.90, 1.80, 1.85]\n",
    "shares = 10000"
   ]
  },
  {
   "cell_type": "code",
   "execution_count": 12,
   "id": "5f5692ee-da72-4b0e-8a17-2ccf6d5f90bb",
   "metadata": {},
   "outputs": [
    {
     "name": "stdout",
     "output_type": "stream",
     "text": [
      "8000.0\n"
     ]
    }
   ],
   "source": [
    "# logic\n",
    "#create a function\n",
    "def max_profit(price_list, shares):\n",
    "    \n",
    "#for loop iterate\n",
    "    largest_price = 0.00\n",
    "    smallest_price = float(\"inf\")\n",
    "    for price in price_list:\n",
    "        if price >= largest_price:\n",
    "            largest_price = price\n",
    "        elif price <= smallest_price:\n",
    "            smallest_price = price\n",
    "    return(round((largest_price - smallest_price) * shares, 2))\n",
    "print(max_profit(price_chrono_list, shares))\n",
    "\n"
   ]
  },
  {
   "cell_type": "code",
   "execution_count": null,
   "id": "a0004c1d-7d52-41e5-8f43-532001aee511",
   "metadata": {},
   "outputs": [],
   "source": []
  }
 ],
 "metadata": {
  "kernelspec": {
   "display_name": "Python 3 (ipykernel)",
   "language": "python",
   "name": "python3"
  },
  "language_info": {
   "codemirror_mode": {
    "name": "ipython",
    "version": 3
   },
   "file_extension": ".py",
   "mimetype": "text/x-python",
   "name": "python",
   "nbconvert_exporter": "python",
   "pygments_lexer": "ipython3",
   "version": "3.7.13"
  }
 },
 "nbformat": 4,
 "nbformat_minor": 5
}
