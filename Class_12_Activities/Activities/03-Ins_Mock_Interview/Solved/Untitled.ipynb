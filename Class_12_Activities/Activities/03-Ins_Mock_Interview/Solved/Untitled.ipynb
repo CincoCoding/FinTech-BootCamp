{
 "cells": [
  {
   "cell_type": "code",
   "execution_count": null,
   "id": "edced255",
   "metadata": {},
   "outputs": [],
   "source": [
    "Cracking the Code"
   ]
  },
  {
   "cell_type": "code",
   "execution_count": 1,
   "id": "c64f27d8",
   "metadata": {},
   "outputs": [],
   "source": [
    "encryptedMessage = 'CxowdwidnfgcisswCgohojlk'"
   ]
  },
  {
   "cell_type": "code",
   "execution_count": 13,
   "id": "dbbbe0db",
   "metadata": {},
   "outputs": [
    {
     "name": "stdout",
     "output_type": "stream",
     "text": [
      "C\n",
      "o\n",
      "d\n",
      "i\n",
      "n\n",
      "g\n",
      "i\n",
      "s\n",
      "C\n",
      "o\n",
      "o\n",
      "l\n"
     ]
    }
   ],
   "source": [
    "def decryptMessage(inputString):\n",
    "    index=0\n",
    "    for element in inputString:\n",
    "        x=int(index/2)*2;\n",
    "        if x==index:\n",
    "            print(element)\n",
    "        index= index+1\n",
    "decryptMessage(encryptedMessage)"
   ]
  },
  {
   "cell_type": "code",
   "execution_count": 14,
   "id": "2bd12dfc",
   "metadata": {},
   "outputs": [
    {
     "name": "stdout",
     "output_type": "stream",
     "text": [
      "C\n",
      "o\n",
      "d\n",
      "i\n",
      "n\n",
      "g\n",
      "i\n",
      "s\n",
      "C\n",
      "o\n",
      "o\n",
      "l\n"
     ]
    }
   ],
   "source": [
    "def messageDecrypt(inputString):\n",
    "    for index, element in enumerate(inputString):\n",
    "        if index % 2 ==0:\n",
    "            print(element)\n",
    "messageDecrypt(encryptedMessage)"
   ]
  },
  {
   "cell_type": "code",
   "execution_count": null,
   "id": "6385e6fb",
   "metadata": {},
   "outputs": [],
   "source": []
  }
 ],
 "metadata": {
  "kernelspec": {
   "display_name": "Python [conda env:root] *",
   "language": "python",
   "name": "conda-root-py"
  },
  "language_info": {
   "codemirror_mode": {
    "name": "ipython",
    "version": 3
   },
   "file_extension": ".py",
   "mimetype": "text/x-python",
   "name": "python",
   "nbconvert_exporter": "python",
   "pygments_lexer": "ipython3",
   "version": "3.8.5"
  }
 },
 "nbformat": 4,
 "nbformat_minor": 5
}
