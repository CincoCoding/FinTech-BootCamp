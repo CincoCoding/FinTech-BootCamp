{
 "cells": [
  {
   "cell_type": "markdown",
   "metadata": {},
   "source": [
    "# Spring Cleaning!"
   ]
  },
  {
   "cell_type": "markdown",
   "metadata": {},
   "source": [
    "Harold's stock data is a mess! Help him clean up his data before the auditors arrive!"
   ]
  },
  {
   "cell_type": "code",
   "execution_count": 2,
   "metadata": {},
   "outputs": [],
   "source": [
    "# Import Libraries\n",
    "import pandas as pd\n",
    "from pathlib import Path"
   ]
  },
  {
   "cell_type": "markdown",
   "metadata": {},
   "source": [
    "### Load CSV data into Pandas using `read_csv`"
   ]
  },
  {
   "cell_type": "code",
   "execution_count": 4,
   "metadata": {},
   "outputs": [
    {
     "data": {
      "text/html": [
       "<div>\n",
       "<style scoped>\n",
       "    .dataframe tbody tr th:only-of-type {\n",
       "        vertical-align: middle;\n",
       "    }\n",
       "\n",
       "    .dataframe tbody tr th {\n",
       "        vertical-align: top;\n",
       "    }\n",
       "\n",
       "    .dataframe thead th {\n",
       "        text-align: right;\n",
       "    }\n",
       "</style>\n",
       "<table border=\"1\" class=\"dataframe\">\n",
       "  <thead>\n",
       "    <tr style=\"text-align: right;\">\n",
       "      <th></th>\n",
       "      <th>name</th>\n",
       "      <th>sector</th>\n",
       "      <th>price</th>\n",
       "      <th>price_per_earnings</th>\n",
       "      <th>dividend_yield</th>\n",
       "      <th>earnings_per_share</th>\n",
       "      <th>52_week_low</th>\n",
       "      <th>52_week_high</th>\n",
       "      <th>market_cap</th>\n",
       "      <th>ebitda</th>\n",
       "      <th>price_per_sales</th>\n",
       "      <th>price_per_book</th>\n",
       "      <th>sec_filings</th>\n",
       "    </tr>\n",
       "    <tr>\n",
       "      <th>symbol</th>\n",
       "      <th></th>\n",
       "      <th></th>\n",
       "      <th></th>\n",
       "      <th></th>\n",
       "      <th></th>\n",
       "      <th></th>\n",
       "      <th></th>\n",
       "      <th></th>\n",
       "      <th></th>\n",
       "      <th></th>\n",
       "      <th></th>\n",
       "      <th></th>\n",
       "      <th></th>\n",
       "    </tr>\n",
       "  </thead>\n",
       "  <tbody>\n",
       "    <tr>\n",
       "      <th>EVHC</th>\n",
       "      <td>Envision Healthcare</td>\n",
       "      <td>Health Care</td>\n",
       "      <td>35.34</td>\n",
       "      <td>10.91</td>\n",
       "      <td>0.000000</td>\n",
       "      <td>-0.48</td>\n",
       "      <td>73.00</td>\n",
       "      <td>23.77</td>\n",
       "      <td>4.212729e+09</td>\n",
       "      <td>8.272000e+08</td>\n",
       "      <td>1.227099</td>\n",
       "      <td>0.64</td>\n",
       "      <td>http://www.sec.gov/cgi-bin/browse-edgar?action...</td>\n",
       "    </tr>\n",
       "    <tr>\n",
       "      <th>APA</th>\n",
       "      <td>Apache Corporation</td>\n",
       "      <td>Energy</td>\n",
       "      <td>37.73</td>\n",
       "      <td>-251.53</td>\n",
       "      <td>2.528445</td>\n",
       "      <td>-3.72</td>\n",
       "      <td>57.90</td>\n",
       "      <td>38.14</td>\n",
       "      <td>1.506628e+10</td>\n",
       "      <td>3.265000e+09</td>\n",
       "      <td>3.651366</td>\n",
       "      <td>2.22</td>\n",
       "      <td>http://www.sec.gov/cgi-bin/browse-edgar?action...</td>\n",
       "    </tr>\n",
       "    <tr>\n",
       "      <th>VFC</th>\n",
       "      <td>V.F. Corp.</td>\n",
       "      <td>Consumer Discretionary</td>\n",
       "      <td>78.75</td>\n",
       "      <td>25.90</td>\n",
       "      <td>2.286567</td>\n",
       "      <td>2.55</td>\n",
       "      <td>82.95</td>\n",
       "      <td>48.05</td>\n",
       "      <td>3.179765e+10</td>\n",
       "      <td>1.624441e+09</td>\n",
       "      <td>3.711094</td>\n",
       "      <td>7.89</td>\n",
       "      <td>http://www.sec.gov/cgi-bin/browse-edgar?action...</td>\n",
       "    </tr>\n",
       "    <tr>\n",
       "      <th>CNC</th>\n",
       "      <td>Centene Corporation</td>\n",
       "      <td>Health Care</td>\n",
       "      <td>100.36</td>\n",
       "      <td>19.12</td>\n",
       "      <td>0.000000</td>\n",
       "      <td>3.23</td>\n",
       "      <td>112.42</td>\n",
       "      <td>65.03</td>\n",
       "      <td>1.801249e+10</td>\n",
       "      <td>2.063000e+09</td>\n",
       "      <td>0.502866</td>\n",
       "      <td>2.58</td>\n",
       "      <td>http://www.sec.gov/cgi-bin/browse-edgar?action...</td>\n",
       "    </tr>\n",
       "    <tr>\n",
       "      <th>MSI</th>\n",
       "      <td>Motorola Solutions Inc.</td>\n",
       "      <td>Information Technology</td>\n",
       "      <td>98.74</td>\n",
       "      <td>19.03</td>\n",
       "      <td>2.026698</td>\n",
       "      <td>-1.08</td>\n",
       "      <td>107.78</td>\n",
       "      <td>77.23</td>\n",
       "      <td>1.662604e+10</td>\n",
       "      <td>1.629000e+09</td>\n",
       "      <td>2.609263</td>\n",
       "      <td>6.81</td>\n",
       "      <td>http://www.sec.gov/cgi-bin/browse-edgar?action...</td>\n",
       "    </tr>\n",
       "  </tbody>\n",
       "</table>\n",
       "</div>"
      ],
      "text/plain": [
       "                           name                  sector   price  \\\n",
       "symbol                                                            \n",
       "EVHC        Envision Healthcare             Health Care   35.34   \n",
       "APA          Apache Corporation                  Energy   37.73   \n",
       "VFC                  V.F. Corp.  Consumer Discretionary   78.75   \n",
       "CNC         Centene Corporation             Health Care  100.36   \n",
       "MSI     Motorola Solutions Inc.  Information Technology   98.74   \n",
       "\n",
       "        price_per_earnings  dividend_yield earnings_per_share  52_week_low  \\\n",
       "symbol                                                                       \n",
       "EVHC                 10.91        0.000000              -0.48        73.00   \n",
       "APA                -251.53        2.528445              -3.72        57.90   \n",
       "VFC                  25.90        2.286567               2.55        82.95   \n",
       "CNC                  19.12        0.000000               3.23       112.42   \n",
       "MSI                  19.03        2.026698              -1.08       107.78   \n",
       "\n",
       "        52_week_high    market_cap        ebitda  price_per_sales  \\\n",
       "symbol                                                              \n",
       "EVHC           23.77  4.212729e+09  8.272000e+08         1.227099   \n",
       "APA            38.14  1.506628e+10  3.265000e+09         3.651366   \n",
       "VFC            48.05  3.179765e+10  1.624441e+09         3.711094   \n",
       "CNC            65.03  1.801249e+10  2.063000e+09         0.502866   \n",
       "MSI            77.23  1.662604e+10  1.629000e+09         2.609263   \n",
       "\n",
       "        price_per_book                                        sec_filings  \n",
       "symbol                                                                     \n",
       "EVHC              0.64  http://www.sec.gov/cgi-bin/browse-edgar?action...  \n",
       "APA               2.22  http://www.sec.gov/cgi-bin/browse-edgar?action...  \n",
       "VFC               7.89  http://www.sec.gov/cgi-bin/browse-edgar?action...  \n",
       "CNC               2.58  http://www.sec.gov/cgi-bin/browse-edgar?action...  \n",
       "MSI               6.81  http://www.sec.gov/cgi-bin/browse-edgar?action...  "
      ]
     },
     "execution_count": 4,
     "metadata": {},
     "output_type": "execute_result"
    }
   ],
   "source": [
    "csv_path = Path(\"../../Resources/stock_data.csv\")\n",
    "csv_data = pd.read_csv(csv_path, index_col=\"symbol\")\n",
    "csv_data.sample(5)"
   ]
  },
  {
   "cell_type": "markdown",
   "metadata": {},
   "source": [
    "### Identify the number of rows and columns (shape) in the DataFrame."
   ]
  },
  {
   "cell_type": "code",
   "execution_count": 12,
   "metadata": {},
   "outputs": [
    {
     "data": {
      "text/plain": [
       "name                  502\n",
       "sector                501\n",
       "price                 500\n",
       "price_per_earnings    497\n",
       "dividend_yield        499\n",
       "earnings_per_share    498\n",
       "52_week_low           500\n",
       "52_week_high          500\n",
       "market_cap            500\n",
       "ebitda                492\n",
       "price_per_sales       500\n",
       "price_per_book        492\n",
       "sec_filings           500\n",
       "dtype: int64"
      ]
     },
     "execution_count": 12,
     "metadata": {},
     "output_type": "execute_result"
    }
   ],
   "source": [
    "csv_data.count()"
   ]
  },
  {
   "cell_type": "markdown",
   "metadata": {},
   "source": [
    "### Generate a sample of the data to visually ensure data has been loaded in correctly."
   ]
  },
  {
   "cell_type": "code",
   "execution_count": 13,
   "metadata": {},
   "outputs": [
    {
     "data": {
      "text/html": [
       "<div>\n",
       "<style scoped>\n",
       "    .dataframe tbody tr th:only-of-type {\n",
       "        vertical-align: middle;\n",
       "    }\n",
       "\n",
       "    .dataframe tbody tr th {\n",
       "        vertical-align: top;\n",
       "    }\n",
       "\n",
       "    .dataframe thead th {\n",
       "        text-align: right;\n",
       "    }\n",
       "</style>\n",
       "<table border=\"1\" class=\"dataframe\">\n",
       "  <thead>\n",
       "    <tr style=\"text-align: right;\">\n",
       "      <th></th>\n",
       "      <th>name</th>\n",
       "      <th>sector</th>\n",
       "      <th>price</th>\n",
       "      <th>price_per_earnings</th>\n",
       "      <th>dividend_yield</th>\n",
       "      <th>earnings_per_share</th>\n",
       "      <th>52_week_low</th>\n",
       "      <th>52_week_high</th>\n",
       "      <th>market_cap</th>\n",
       "      <th>ebitda</th>\n",
       "      <th>price_per_sales</th>\n",
       "      <th>price_per_book</th>\n",
       "      <th>sec_filings</th>\n",
       "    </tr>\n",
       "    <tr>\n",
       "      <th>symbol</th>\n",
       "      <th></th>\n",
       "      <th></th>\n",
       "      <th></th>\n",
       "      <th></th>\n",
       "      <th></th>\n",
       "      <th></th>\n",
       "      <th></th>\n",
       "      <th></th>\n",
       "      <th></th>\n",
       "      <th></th>\n",
       "      <th></th>\n",
       "      <th></th>\n",
       "      <th></th>\n",
       "    </tr>\n",
       "  </thead>\n",
       "  <tbody>\n",
       "    <tr>\n",
       "      <th>DXC</th>\n",
       "      <td>DXC Technology</td>\n",
       "      <td>Information Technology</td>\n",
       "      <td>91.92</td>\n",
       "      <td>79.93</td>\n",
       "      <td>0.749375</td>\n",
       "      <td>-0.89</td>\n",
       "      <td>102.95</td>\n",
       "      <td>67.76</td>\n",
       "      <td>2.740862e+10</td>\n",
       "      <td>1.628000e+09</td>\n",
       "      <td>1.959806</td>\n",
       "      <td>2.26</td>\n",
       "      <td>http://www.sec.gov/cgi-bin/browse-edgar?action...</td>\n",
       "    </tr>\n",
       "    <tr>\n",
       "      <th>AYI</th>\n",
       "      <td>Acuity Brands Inc</td>\n",
       "      <td>Industrials</td>\n",
       "      <td>108.48</td>\n",
       "      <td>18.22</td>\n",
       "      <td>0.351185</td>\n",
       "      <td>7.43</td>\n",
       "      <td>225.36</td>\n",
       "      <td>142.00</td>\n",
       "      <td>6.242378e+09</td>\n",
       "      <td>5.878000e+08</td>\n",
       "      <td>1.795347</td>\n",
       "      <td>3.55</td>\n",
       "      <td>http://www.sec.gov/cgi-bin/browse-edgar?action...</td>\n",
       "    </tr>\n",
       "    <tr>\n",
       "      <th>BAX</th>\n",
       "      <td>Baxter International Inc.</td>\n",
       "      <td>Health Care</td>\n",
       "      <td>62.56</td>\n",
       "      <td>25.12</td>\n",
       "      <td>0.976354</td>\n",
       "      <td>1.29</td>\n",
       "      <td>72.58</td>\n",
       "      <td>48.15</td>\n",
       "      <td>3.571373e+10</td>\n",
       "      <td>1.832000e+09</td>\n",
       "      <td>3.439441</td>\n",
       "      <td>3.77</td>\n",
       "      <td>http://www.sec.gov/cgi-bin/browse-edgar?action...</td>\n",
       "    </tr>\n",
       "  </tbody>\n",
       "</table>\n",
       "</div>"
      ],
      "text/plain": [
       "                             name                  sector   price  \\\n",
       "symbol                                                              \n",
       "DXC                DXC Technology  Information Technology   91.92   \n",
       "AYI             Acuity Brands Inc             Industrials  108.48   \n",
       "BAX     Baxter International Inc.             Health Care   62.56   \n",
       "\n",
       "        price_per_earnings  dividend_yield earnings_per_share  52_week_low  \\\n",
       "symbol                                                                       \n",
       "DXC                  79.93        0.749375              -0.89       102.95   \n",
       "AYI                  18.22        0.351185               7.43       225.36   \n",
       "BAX                  25.12        0.976354               1.29        72.58   \n",
       "\n",
       "        52_week_high    market_cap        ebitda  price_per_sales  \\\n",
       "symbol                                                              \n",
       "DXC            67.76  2.740862e+10  1.628000e+09         1.959806   \n",
       "AYI           142.00  6.242378e+09  5.878000e+08         1.795347   \n",
       "BAX            48.15  3.571373e+10  1.832000e+09         3.439441   \n",
       "\n",
       "        price_per_book                                        sec_filings  \n",
       "symbol                                                                     \n",
       "DXC               2.26  http://www.sec.gov/cgi-bin/browse-edgar?action...  \n",
       "AYI               3.55  http://www.sec.gov/cgi-bin/browse-edgar?action...  \n",
       "BAX               3.77  http://www.sec.gov/cgi-bin/browse-edgar?action...  "
      ]
     },
     "execution_count": 13,
     "metadata": {},
     "output_type": "execute_result"
    }
   ],
   "source": [
    "csv_data.sample(3)"
   ]
  },
  {
   "cell_type": "markdown",
   "metadata": {},
   "source": [
    "### Identify the number of records in the DataFrame, and compare it with the number of rows in the original file."
   ]
  },
  {
   "cell_type": "code",
   "execution_count": 16,
   "metadata": {},
   "outputs": [
    {
     "ename": "TypeError",
     "evalue": "'numpy.int32' object is not callable",
     "output_type": "error",
     "traceback": [
      "\u001b[1;31m---------------------------------------------------------------------------\u001b[0m",
      "\u001b[1;31mTypeError\u001b[0m                                 Traceback (most recent call last)",
      "\u001b[1;32m~\\AppData\\Local\\Temp\\ipykernel_8008\\2395829201.py\u001b[0m in \u001b[0;36m<module>\u001b[1;34m\u001b[0m\n\u001b[1;32m----> 1\u001b[1;33m \u001b[0mrecords\u001b[0m \u001b[1;33m=\u001b[0m \u001b[0mcsv_data\u001b[0m\u001b[1;33m.\u001b[0m\u001b[0msize\u001b[0m\u001b[1;33m(\u001b[0m\u001b[1;33m)\u001b[0m\u001b[1;33m\u001b[0m\u001b[1;33m\u001b[0m\u001b[0m\n\u001b[0m\u001b[0;32m      2\u001b[0m \u001b[0mrows\u001b[0m \u001b[1;33m=\u001b[0m \u001b[0mcsv_data\u001b[0m\u001b[1;33m.\u001b[0m\u001b[0mcount\u001b[0m\u001b[1;33m\u001b[0m\u001b[1;33m\u001b[0m\u001b[0m\n",
      "\u001b[1;31mTypeError\u001b[0m: 'numpy.int32' object is not callable"
     ]
    }
   ],
   "source": [
    "records = csv_data.size()\n",
    "rows = csv_data.count"
   ]
  },
  {
   "cell_type": "markdown",
   "metadata": {},
   "source": [
    "### Identify nulls records"
   ]
  },
  {
   "cell_type": "code",
   "execution_count": null,
   "metadata": {},
   "outputs": [],
   "source": []
  },
  {
   "cell_type": "markdown",
   "metadata": {},
   "source": [
    "### Drop Null Records"
   ]
  },
  {
   "cell_type": "code",
   "execution_count": null,
   "metadata": {},
   "outputs": [],
   "source": []
  },
  {
   "cell_type": "markdown",
   "metadata": {},
   "source": [
    "### Validate nulls have been dropped"
   ]
  },
  {
   "cell_type": "code",
   "execution_count": null,
   "metadata": {},
   "outputs": [],
   "source": []
  },
  {
   "cell_type": "markdown",
   "metadata": {},
   "source": [
    "### Default null `ebitda` values to 0. Then, validate no records are null for ebitda."
   ]
  },
  {
   "cell_type": "code",
   "execution_count": null,
   "metadata": {},
   "outputs": [],
   "source": []
  },
  {
   "cell_type": "markdown",
   "metadata": {},
   "source": [
    "### Drop Duplicates"
   ]
  },
  {
   "cell_type": "code",
   "execution_count": null,
   "metadata": {},
   "outputs": [],
   "source": []
  },
  {
   "cell_type": "markdown",
   "metadata": {},
   "source": [
    "### Sample `price` field"
   ]
  },
  {
   "cell_type": "code",
   "execution_count": null,
   "metadata": {},
   "outputs": [],
   "source": []
  },
  {
   "cell_type": "markdown",
   "metadata": {},
   "source": [
    "### Clean `price` Series by replacing `$`"
   ]
  },
  {
   "cell_type": "code",
   "execution_count": null,
   "metadata": {},
   "outputs": [],
   "source": []
  },
  {
   "cell_type": "markdown",
   "metadata": {},
   "source": [
    "### Confirm data type of `price`"
   ]
  },
  {
   "cell_type": "code",
   "execution_count": null,
   "metadata": {},
   "outputs": [],
   "source": []
  },
  {
   "cell_type": "markdown",
   "metadata": {},
   "source": [
    "### Cast `price` Series as float and then validate using `dtype`"
   ]
  },
  {
   "cell_type": "code",
   "execution_count": null,
   "metadata": {},
   "outputs": [],
   "source": []
  }
 ],
 "metadata": {
  "kernelspec": {
   "display_name": "Python 3 (ipykernel)",
   "language": "python",
   "name": "python3"
  },
  "language_info": {
   "codemirror_mode": {
    "name": "ipython",
    "version": 3
   },
   "file_extension": ".py",
   "mimetype": "text/x-python",
   "name": "python",
   "nbconvert_exporter": "python",
   "pygments_lexer": "ipython3",
   "version": "3.7.13"
  }
 },
 "nbformat": 4,
 "nbformat_minor": 4
}
