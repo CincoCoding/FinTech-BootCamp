{
 "cells": [
  {
   "cell_type": "code",
   "execution_count": 1,
   "id": "aa30db60-58df-4e40-ab10-9481df950e76",
   "metadata": {},
   "outputs": [],
   "source": [
    "# Initialize a dictionary\n",
    "trading_pnl = {\n",
    "      \"title\": \"Trading Log\",\n",
    "      \"03-18-2019\": -224,\n",
    "      \"03-19-2019\": 352,\n",
    "      \"03-20-2019\": 252,\n",
    "      \"03-21-2019\": 354,\n",
    "      \"03-22-2019\": -544,\n",
    "      \"03-23-2019\": -650,\n",
    "      \"03-24-2019\": 56,\n",
    "      \"03-25-2019\": 123,\n",
    "      \"03-26-2019\": -43,\n",
    "      \"03-27-2019\": 254,\n",
    "      \"03-28-2019\": 325,\n",
    "      \"03-29-2019\": -123,\n",
    "      \"03-30-2019\": 47,\n",
    "      \"03-31-2019\": 321,\n",
    "      \"04-01-2019\": 123,\n",
    "      \"04-02-2019\": 133,\n",
    "      \"04-03-2019\": -151,\n",
    "      \"04-04-2019\": 613,\n",
    "      \"04-05-2019\": 232,\n",
    "      \"04-06-2019\": -311\n",
    "}"
   ]
  },
  {
   "cell_type": "code",
   "execution_count": null,
   "id": "4817117e-d644-48c2-a2d2-050c401ecd21",
   "metadata": {},
   "outputs": [],
   "source": []
  },
  {
   "cell_type": "code",
   "execution_count": 8,
   "id": "17097e5f-feee-4240-be32-c88c7c60ddb3",
   "metadata": {},
   "outputs": [
    {
     "name": "stdout",
     "output_type": "stream",
     "text": [
      "title : Trading Log\n",
      "03-18-2019 : -224\n",
      "03-19-2019 : 352\n",
      "03-20-2019 : 252\n",
      "03-21-2019 : 354\n",
      "03-22-2019 : -544\n",
      "03-23-2019 : -650\n",
      "03-24-2019 : 56\n",
      "03-25-2019 : 123\n",
      "03-26-2019 : -43\n",
      "03-27-2019 : 254\n",
      "03-28-2019 : 325\n",
      "03-29-2019 : -123\n",
      "03-30-2019 : 47\n",
      "03-31-2019 : 321\n",
      "04-01-2019 : 123\n",
      "04-02-2019 : 133\n",
      "04-03-2019 : -151\n",
      "04-04-2019 : 613\n",
      "04-05-2019 : 232\n",
      "04-06-2019 : -311\n"
     ]
    }
   ],
   "source": [
    "#iterate thru dictionary (method1)\n",
    "for key in trading_pnl.keys():\n",
    "    print(key,\":\", trading_pnl[key])"
   ]
  },
  {
   "cell_type": "code",
   "execution_count": null,
   "id": "af602163-4450-451c-9a3d-8fe84ad7c0ca",
   "metadata": {},
   "outputs": [],
   "source": []
  },
  {
   "cell_type": "code",
   "execution_count": 11,
   "id": "4a6661d2-e8b9-4953-b3d1-03e522aa1b7a",
   "metadata": {},
   "outputs": [
    {
     "name": "stdout",
     "output_type": "stream",
     "text": [
      "title : Trading Log\n",
      "03-18-2019 : -224\n",
      "03-19-2019 : 352\n",
      "03-20-2019 : 252\n",
      "03-21-2019 : 354\n",
      "03-22-2019 : -544\n",
      "03-23-2019 : -650\n",
      "03-24-2019 : 56\n",
      "03-25-2019 : 123\n",
      "03-26-2019 : -43\n",
      "03-27-2019 : 254\n",
      "03-28-2019 : 325\n",
      "03-29-2019 : -123\n",
      "03-30-2019 : 47\n",
      "03-31-2019 : 321\n",
      "04-01-2019 : 123\n",
      "04-02-2019 : 133\n",
      "04-03-2019 : -151\n",
      "04-04-2019 : 613\n",
      "04-05-2019 : 232\n",
      "04-06-2019 : -311\n"
     ]
    }
   ],
   "source": [
    "#iterate thru a dictionay (method 2)\n",
    "#simple loop using format specifier\n",
    "for i in trading_pnl:\n",
    "    print(f'{i} : {trading_pnl[i]}')"
   ]
  },
  {
   "cell_type": "code",
   "execution_count": null,
   "id": "e37ab997-be5f-4369-957c-8188cd28e8d4",
   "metadata": {},
   "outputs": [],
   "source": []
  }
 ],
 "metadata": {
  "kernelspec": {
   "display_name": "Python 3 (ipykernel)",
   "language": "python",
   "name": "python3"
  },
  "language_info": {
   "codemirror_mode": {
    "name": "ipython",
    "version": 3
   },
   "file_extension": ".py",
   "mimetype": "text/x-python",
   "name": "python",
   "nbconvert_exporter": "python",
   "pygments_lexer": "ipython3",
   "version": "3.7.13"
  }
 },
 "nbformat": 4,
 "nbformat_minor": 5
}
